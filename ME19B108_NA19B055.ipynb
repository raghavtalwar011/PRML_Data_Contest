{
 "cells": [
  {
   "cell_type": "code",
   "execution_count": null,
   "metadata": {
    "_cell_guid": "4514b081-a48f-4252-9dd7-7cb7387ea5e4",
    "_uuid": "45302d2c-bf86-4080-bee4-db2c651484d9",
    "execution": {
     "iopub.execute_input": "2021-06-01T15:13:12.848061Z",
     "iopub.status.busy": "2021-06-01T15:13:12.847350Z",
     "iopub.status.idle": "2021-06-01T15:13:12.862507Z",
     "shell.execute_reply": "2021-06-01T15:13:12.860912Z",
     "shell.execute_reply.started": "2021-06-01T15:13:12.847968Z"
    },
    "jupyter": {
     "outputs_hidden": false
    }
   },
   "outputs": [],
   "source": [
    "# This Python 3 environment comes with many helpful analytics libraries installed\n",
    "# It is defined by the kaggle/python Docker image: https://github.com/kaggle/docker-python\n",
    "# For example, here's several helpful packages to load\n",
    "\n",
    "import numpy as np # linear algebra\n",
    "import pandas as pd # data processing, CSV file I/O (e.g. pd.read_csv)\n",
    "\n",
    "# Input data files are available in the read-only \"../input/\" directory\n",
    "# For example, running this (by clicking run or pressing Shift+Enter) will list all files under the input directory\n",
    "\n",
    "import os\n",
    "for dirname, _, filenames in os.walk('/kaggle/input'):\n",
    "    for filename in filenames:\n",
    "        print(os.path.join(dirname, filename))\n",
    "\n",
    "# You can write up to 20GB to the current directory (/kaggle/working/) that gets preserved as output when you create a version using \"Save & Run All\" \n",
    "# You can also write temporary files to /kaggle/temp/, but they won't be saved outside of the current session"
   ]
  },
  {
   "cell_type": "code",
   "execution_count": null,
   "metadata": {
    "_cell_guid": "4028a651-60b8-4a71-bc02-4e3b69e69220",
    "_uuid": "26930698-6269-4d65-91ea-71c032b577b9",
    "execution": {
     "iopub.execute_input": "2021-06-01T15:14:11.094897Z",
     "iopub.status.busy": "2021-06-01T15:14:11.094542Z",
     "iopub.status.idle": "2021-06-01T15:14:12.698197Z",
     "shell.execute_reply": "2021-06-01T15:14:12.697318Z",
     "shell.execute_reply.started": "2021-06-01T15:14:11.094868Z"
    },
    "jupyter": {
     "outputs_hidden": false
    }
   },
   "outputs": [],
   "source": [
    "train = pd.read_csv(\"/kaggle/input/dataset/train.csv\")\n",
    "songs = pd.read_csv(\"/kaggle/input/dataset/songs.csv\")\n",
    "song_labels = pd.read_csv(\"/kaggle/input/dataset/song_labels.csv\")\n",
    "save = pd.read_csv(\"/kaggle/input/dataset/save_for_later.csv\")\n",
    "test = pd.read_csv(\"/kaggle/input/dataset/test.csv\")"
   ]
  },
  {
   "cell_type": "code",
   "execution_count": null,
   "metadata": {
    "_cell_guid": "ad7f23e3-ed19-4a88-b907-3bc96139ca10",
    "_uuid": "71fe83f9-6a90-46a8-aad7-ad9a37eda549",
    "execution": {
     "iopub.execute_input": "2021-06-01T15:25:12.598523Z",
     "iopub.status.busy": "2021-06-01T15:25:12.598090Z",
     "iopub.status.idle": "2021-06-01T15:25:12.602472Z",
     "shell.execute_reply": "2021-06-01T15:25:12.601545Z",
     "shell.execute_reply.started": "2021-06-01T15:25:12.598483Z"
    },
    "jupyter": {
     "outputs_hidden": false
    }
   },
   "outputs": [],
   "source": [
    "data = train"
   ]
  },
  {
   "cell_type": "code",
   "execution_count": null,
   "metadata": {
    "_cell_guid": "9119488e-b985-4bc4-ad82-e766411a2b99",
    "_uuid": "6df47f38-bc8b-43d1-9866-06dcee15261a",
    "execution": {
     "iopub.execute_input": "2021-06-01T15:25:13.953722Z",
     "iopub.status.busy": "2021-06-01T15:25:13.953309Z",
     "iopub.status.idle": "2021-06-01T15:25:14.086435Z",
     "shell.execute_reply": "2021-06-01T15:25:14.085047Z",
     "shell.execute_reply.started": "2021-06-01T15:25:13.953688Z"
    },
    "jupyter": {
     "outputs_hidden": false
    }
   },
   "outputs": [],
   "source": [
    "arr = np.zeros((14053,10000))\n",
    "d = pd.DataFrame(arr, index = data['customer_id'].unique(), columns = data['song_id'].unique())"
   ]
  },
  {
   "cell_type": "code",
   "execution_count": null,
   "metadata": {
    "_cell_guid": "8bfc9159-e829-4971-b378-01d8721b8764",
    "_uuid": "b344df84-fff0-48e4-a6b3-a9710e315e3e",
    "execution": {
     "iopub.execute_input": "2021-06-01T15:25:19.789382Z",
     "iopub.status.busy": "2021-06-01T15:25:19.789043Z",
     "iopub.status.idle": "2021-06-01T15:26:45.452034Z",
     "shell.execute_reply": "2021-06-01T15:26:45.451134Z",
     "shell.execute_reply.started": "2021-06-01T15:25:19.789352Z"
    },
    "jupyter": {
     "outputs_hidden": false
    }
   },
   "outputs": [],
   "source": [
    "for index in range(len(data)):\n",
    "    d.loc[data['customer_id'][index], data['song_id'][index]] = data['score'][index]"
   ]
  },
  {
   "cell_type": "code",
   "execution_count": null,
   "metadata": {
    "_cell_guid": "8962045a-67b7-45da-b706-7348dafda209",
    "_uuid": "c94d9029-8ca5-4445-84a9-e029948d415f",
    "execution": {
     "iopub.execute_input": "2021-06-01T17:10:15.718461Z",
     "iopub.status.busy": "2021-06-01T17:10:15.718040Z",
     "iopub.status.idle": "2021-06-01T17:10:15.826212Z",
     "shell.execute_reply": "2021-06-01T17:10:15.825210Z",
     "shell.execute_reply.started": "2021-06-01T17:10:15.718412Z"
    },
    "jupyter": {
     "outputs_hidden": false
    }
   },
   "outputs": [],
   "source": []
  },
  {
   "cell_type": "code",
   "execution_count": null,
   "metadata": {
    "_cell_guid": "fd930434-85e8-4d93-945b-fe1e98773e76",
    "_uuid": "d26dcd9d-e060-426c-b716-05c4477ce10c",
    "execution": {
     "iopub.execute_input": "2021-06-01T15:28:34.904001Z",
     "iopub.status.busy": "2021-06-01T15:28:34.903647Z",
     "iopub.status.idle": "2021-06-01T15:28:34.916722Z",
     "shell.execute_reply": "2021-06-01T15:28:34.915796Z",
     "shell.execute_reply.started": "2021-06-01T15:28:34.903972Z"
    },
    "jupyter": {
     "outputs_hidden": false
    }
   },
   "outputs": [],
   "source": [
    "import numpy\n",
    "import numpy as np\n",
    "import pandas as pd\n",
    "\n",
    "def matrix_factorization(R, P, Q, K, steps=200, alpha=0.0015, beta=0.15):\n",
    "    Q = Q.T\n",
    "    x = np.nonzero(R)\n",
    "    for step in range(steps):\n",
    "        for p in range(len(x[0])):  \n",
    "            i = x[0][p]\n",
    "            j = x[1][p]\n",
    "            eij = R[i][j] - numpy.dot(P[i,:],Q[:,j])\n",
    "            for k in range(K):\n",
    "                P[i][k] = P[i][k] + alpha * (2 * eij * Q[k][j] - beta * P[i][k])\n",
    "                Q[k][j] = Q[k][j] + alpha * (2 * eij * P[i][k] - beta * Q[k][j])\n",
    "        eR = numpy.dot(P,Q)\n",
    "        e = 0\n",
    "        for p in range(len(x[0])):  \n",
    "            i = x[0][p]\n",
    "            j = x[1][p]\n",
    "            e = e + pow(R[i][j] - numpy.dot(P[i,:],Q[:,j]), 2)\n",
    "            for k in range(K):\n",
    "                e = e + (beta/2) * (pow(P[i][k],2) + pow(Q[k][j],2))\n",
    "            if e < 0.001:\n",
    "                break\n",
    "    return P, Q.T"
   ]
  },
  {
   "cell_type": "code",
   "execution_count": null,
   "metadata": {
    "_cell_guid": "d11fe159-19f2-4942-936f-4b08ce048141",
    "_uuid": "f78685c0-b816-44fe-ba4f-81f3134956db",
    "execution": {
     "iopub.execute_input": "2021-06-01T15:28:36.783466Z",
     "iopub.status.busy": "2021-06-01T15:28:36.783090Z",
     "iopub.status.idle": "2021-06-01T17:00:57.207471Z",
     "shell.execute_reply": "2021-06-01T17:00:57.205545Z",
     "shell.execute_reply.started": "2021-06-01T15:28:36.783435Z"
    },
    "jupyter": {
     "outputs_hidden": false
    }
   },
   "outputs": [],
   "source": [
    "R = np.array(d)\n",
    "N = len(R)\n",
    "M = len(R[0])\n",
    "K = 2\n",
    "\n",
    "P = np.random.rand(N,K)\n",
    "Q = np.random.rand(M,K)\n",
    "\n",
    "nP, nQ = matrix_factorization(R, P, Q, K)\n",
    "nR = numpy.dot(nP, nQ.T)"
   ]
  },
  {
   "cell_type": "code",
   "execution_count": null,
   "metadata": {
    "_cell_guid": "3be221b3-1591-447b-bbb8-bb73ce2bc377",
    "_uuid": "f95a8920-e190-4a97-b3aa-fe0b8f954482",
    "execution": {
     "iopub.execute_input": "2021-06-01T17:05:11.104958Z",
     "iopub.status.busy": "2021-06-01T17:05:11.104561Z",
     "iopub.status.idle": "2021-06-01T17:05:11.238074Z",
     "shell.execute_reply": "2021-06-01T17:05:11.237146Z",
     "shell.execute_reply.started": "2021-06-01T17:05:11.104926Z"
    },
    "jupyter": {
     "outputs_hidden": false
    }
   },
   "outputs": [],
   "source": [
    "dummy = pd.read_csv(\"/kaggle/input/prml-data-contest-jan-2021/dummy_submission.csv\")"
   ]
  },
  {
   "cell_type": "code",
   "execution_count": null,
   "metadata": {
    "_cell_guid": "227db4bc-d88e-4c78-93c9-49bf49ec8c0a",
    "_uuid": "55162469-7211-4e6a-a897-49b83e3b457e",
    "execution": {
     "iopub.execute_input": "2021-06-01T17:05:14.015828Z",
     "iopub.status.busy": "2021-06-01T17:05:14.015393Z",
     "iopub.status.idle": "2021-06-01T17:08:17.090788Z",
     "shell.execute_reply": "2021-06-01T17:08:17.089987Z",
     "shell.execute_reply.started": "2021-06-01T17:05:14.015794Z"
    },
    "jupyter": {
     "outputs_hidden": false
    }
   },
   "outputs": [],
   "source": [
    "scores = []\n",
    "for index in range(len(test)):\n",
    "    c_id = test.iloc[index][0]\n",
    "    s_id = test.iloc[index][1]\n",
    "    i = d.index.get_loc(c_id)\n",
    "    j = d.columns.get_loc(s_id)\n",
    "    scores.append(nR[i][j])"
   ]
  },
  {
   "cell_type": "code",
   "execution_count": null,
   "metadata": {
    "_cell_guid": "39cadf47-dd17-473d-91a0-10f1eac3f827",
    "_uuid": "79742a2b-2819-4dcd-b524-5477ad54b754",
    "execution": {
     "iopub.execute_input": "2021-06-01T17:08:17.093082Z",
     "iopub.status.busy": "2021-06-01T17:08:17.092479Z",
     "iopub.status.idle": "2021-06-01T17:08:17.240803Z",
     "shell.execute_reply": "2021-06-01T17:08:17.239696Z",
     "shell.execute_reply.started": "2021-06-01T17:08:17.093037Z"
    },
    "jupyter": {
     "outputs_hidden": false
    }
   },
   "outputs": [],
   "source": [
    "result = dummy.copy()\n",
    "result.drop('score', inplace = True, axis = 1)\n",
    "result['score'] = scores"
   ]
  },
  {
   "cell_type": "code",
   "execution_count": null,
   "metadata": {
    "_cell_guid": "d69c6fd9-c9ac-4d42-b62b-bd0e03e9b8f8",
    "_uuid": "2d899282-e5d4-4318-9072-902578850502",
    "execution": {
     "iopub.execute_input": "2021-06-01T17:26:25.290717Z",
     "iopub.status.busy": "2021-06-01T17:26:25.290024Z",
     "iopub.status.idle": "2021-06-01T17:26:25.308565Z",
     "shell.execute_reply": "2021-06-01T17:26:25.307322Z",
     "shell.execute_reply.started": "2021-06-01T17:26:25.290666Z"
    },
    "jupyter": {
     "outputs_hidden": false
    }
   },
   "outputs": [],
   "source": []
  },
  {
   "cell_type": "code",
   "execution_count": null,
   "metadata": {
    "_cell_guid": "b49786f6-c523-4507-b902-e9d1f801be33",
    "_uuid": "55cf255c-2222-4fb6-9332-d59280193612",
    "execution": {
     "iopub.status.busy": "2021-06-01T17:04:40.172611Z",
     "iopub.status.idle": "2021-06-01T17:04:40.173333Z"
    },
    "jupyter": {
     "outputs_hidden": false
    }
   },
   "outputs": [],
   "source": [
    "song_labels = song_labels.groupby(\"platform_id\").agg({'label_id': lambda x: pd.Series.mode(x)[0],'count': 'mean'})"
   ]
  },
  {
   "cell_type": "code",
   "execution_count": null,
   "metadata": {
    "_cell_guid": "9ba0163b-c727-4aa1-9e2c-6cebf169214a",
    "_uuid": "47e06c88-8ca0-4ec4-b884-b2bc968cde5e",
    "execution": {
     "iopub.status.busy": "2021-06-01T17:04:40.174379Z",
     "iopub.status.idle": "2021-06-01T17:04:40.175082Z"
    },
    "jupyter": {
     "outputs_hidden": false
    }
   },
   "outputs": [],
   "source": [
    "X1 = pd.merge(train,songs,on=\"song_id\",how=\"left\")\n",
    "X1 = pd.merge(X1,song_labels,on=\"platform_id\",how=\"left\")\n",
    "\n",
    "save[\"save_later\"]=1\n",
    "save = save.groupby('song_id').agg({'save_later':'sum'})\n",
    "\n",
    "X1 = pd.merge(X1,save,on=[\"song_id\"],how=\"left\")"
   ]
  },
  {
   "cell_type": "code",
   "execution_count": null,
   "metadata": {
    "_cell_guid": "e696eec6-bfe6-4164-b5b5-c79bb07bd2ea",
    "_uuid": "a799545b-88fa-4b81-9d7b-2cd51023a46b",
    "execution": {
     "iopub.status.busy": "2021-06-01T17:04:40.176643Z",
     "iopub.status.idle": "2021-06-01T17:04:40.177540Z"
    },
    "jupyter": {
     "outputs_hidden": false
    }
   },
   "outputs": [],
   "source": [
    "ave_user = train.groupby('customer_id').agg({'score':'mean'})\n",
    "ave_user = ave_user.rename(columns={'score': 'ave_user'})\n",
    "\n",
    "ave_item = train.groupby('song_id').agg({'score':'mean'})\n",
    "ave_item = ave_item.rename(columns={'score': 'ave_item'})"
   ]
  },
  {
   "cell_type": "code",
   "execution_count": null,
   "metadata": {
    "_cell_guid": "a0085c61-c857-448a-81b8-520c5cc15c0d",
    "_uuid": "665c69d1-1666-4cd1-a295-8def6761ea3c",
    "execution": {
     "iopub.status.busy": "2021-06-01T17:04:40.179191Z",
     "iopub.status.idle": "2021-06-01T17:04:40.180104Z"
    },
    "jupyter": {
     "outputs_hidden": false
    }
   },
   "outputs": [],
   "source": [
    "X1 = pd.merge(X1,ave_user,on='customer_id',how='left')\n",
    "\n",
    "X1 = pd.merge(X1,ave_item,on='song_id',how='left')"
   ]
  },
  {
   "cell_type": "code",
   "execution_count": null,
   "metadata": {
    "_cell_guid": "ce1784fe-92de-4cb7-ac53-abb314967a8b",
    "_uuid": "997bdbee-ab28-4d8c-8fb5-08308a120e05",
    "execution": {
     "iopub.status.busy": "2021-06-01T17:04:40.181294Z",
     "iopub.status.idle": "2021-06-01T17:04:40.182462Z"
    },
    "jupyter": {
     "outputs_hidden": false
    }
   },
   "outputs": [],
   "source": [
    "from sklearn.preprocessing import StandardScaler\n",
    "cols_to_norm = ['released_year', 'number_of_comments','count','save_later'] #'label_id'\n",
    "X1[cols_to_norm] = StandardScaler().fit_transform(X1[cols_to_norm])"
   ]
  },
  {
   "cell_type": "code",
   "execution_count": null,
   "metadata": {
    "_cell_guid": "d431a25a-e787-4bc2-8ef8-58f12e8155d5",
    "_uuid": "19ccf84d-760c-4548-bf30-454bb63a3161",
    "execution": {
     "iopub.status.busy": "2021-06-01T17:04:40.184034Z",
     "iopub.status.idle": "2021-06-01T17:04:40.184742Z"
    },
    "jupyter": {
     "outputs_hidden": false
    }
   },
   "outputs": [],
   "source": [
    "X1['label_id']=X1['label_id'].fillna(X1['label_id'].mode().iloc[0])\n",
    "X1['count']=X1['count'].fillna(X1['count'].mode().iloc[0])\n",
    "X1['language']=X1['language'].fillna(X1['language'].mode().iloc[0])\n",
    "X1['number_of_comments']=X1['number_of_comments'].fillna(X1['number_of_comments'].mode().iloc[0])\n",
    "X1['released_year']=X1['released_year'].fillna(X1['released_year'].mode().iloc[0])\n",
    "X1['save_later']=X1['save_later'].fillna(X1['save_later'].mode().iloc[0])\n",
    "\n",
    "X1 = X1.drop(columns=['platform_id'])"
   ]
  },
  {
   "cell_type": "code",
   "execution_count": null,
   "metadata": {
    "_cell_guid": "972e319f-df6b-47b6-9e64-1361d9158800",
    "_uuid": "581f559e-b65b-4a0c-a1d2-13746e450a8f",
    "execution": {
     "iopub.status.busy": "2021-06-01T17:04:40.185821Z",
     "iopub.status.idle": "2021-06-01T17:04:40.186533Z"
    },
    "jupyter": {
     "outputs_hidden": false
    }
   },
   "outputs": [],
   "source": [
    "X1['label_id'] = X1['label_id'].astype(int)\n",
    "\n",
    "X1[\"customer_id\"] = X1[\"customer_id\"].astype('category')\n",
    "X1[\"song_id\"] = X1[\"song_id\"].astype('category')\n",
    "\n",
    "X1[\"language\"] = X1[\"language\"].astype('category')\n",
    "X1[\"label_id\"] = X1[\"label_id\"].astype('category')"
   ]
  },
  {
   "cell_type": "code",
   "execution_count": null,
   "metadata": {
    "_cell_guid": "0bcea857-c5d6-4350-9c26-3dbfc3326890",
    "_uuid": "8310589c-2ebd-41ad-ad34-bc7fc76678d7",
    "execution": {
     "iopub.status.busy": "2021-06-01T17:04:40.187617Z",
     "iopub.status.idle": "2021-06-01T17:04:40.188318Z"
    },
    "jupyter": {
     "outputs_hidden": false
    }
   },
   "outputs": [],
   "source": [
    "from catboost import CatBoostRegressor\n",
    "\n",
    "features=['customer_id','song_id','released_year','language','number_of_comments','label_id','count','save_later']#'customer_id','song_id','platform_id',\n",
    "c_features = ['customer_id','song_id','language','label_id']#'label_1','label_2','label_3'\n",
    "y = X1.score \n",
    "X = X1[['customer_id','song_id','released_year','language','number_of_comments','label_id','count','save_later','ave_user','ave_item']] #X1"
   ]
  },
  {
   "cell_type": "code",
   "execution_count": null,
   "metadata": {
    "_cell_guid": "85af513a-7b76-4795-abd8-c6a0b5674865",
    "_uuid": "067795d4-21b5-4b8f-a2ef-a7ad6684e884",
    "execution": {
     "iopub.status.busy": "2021-06-01T17:04:40.189392Z",
     "iopub.status.idle": "2021-06-01T17:04:40.190089Z"
    },
    "jupyter": {
     "outputs_hidden": false
    }
   },
   "outputs": [],
   "source": [
    "X_test = pd.merge(test,songs,on=\"song_id\",how=\"left\")\n",
    "X_test = pd.merge(X_test,song_labels,on=\"platform_id\",how=\"left\")\n",
    "\n",
    "X_test = pd.merge(X_test,save,on=[\"song_id\"],how=\"left\")"
   ]
  },
  {
   "cell_type": "code",
   "execution_count": null,
   "metadata": {
    "_cell_guid": "f44958b6-979e-4ac8-b4f1-e3151acdbff2",
    "_uuid": "9ab60583-41ba-4928-8a22-d50195396c1e",
    "execution": {
     "iopub.status.busy": "2021-06-01T17:04:40.191084Z",
     "iopub.status.idle": "2021-06-01T17:04:40.191750Z"
    },
    "jupyter": {
     "outputs_hidden": false
    }
   },
   "outputs": [],
   "source": [
    "X_test = pd.merge(X_test,ave_user,on='customer_id',how='left')\n",
    "X_test = pd.merge(X_test,ave_item,on='song_id',how='left')\n",
    "X_test[cols_to_norm] = StandardScaler().fit_transform(X_test[cols_to_norm])"
   ]
  },
  {
   "cell_type": "code",
   "execution_count": null,
   "metadata": {
    "_cell_guid": "14822698-6edf-4977-bd95-777653d1fcec",
    "_uuid": "d8137a42-4ba3-40f3-8b9a-d125d68056c7",
    "execution": {
     "iopub.status.busy": "2021-06-01T17:04:40.192817Z",
     "iopub.status.idle": "2021-06-01T17:04:40.193626Z"
    },
    "jupyter": {
     "outputs_hidden": false
    }
   },
   "outputs": [],
   "source": [
    "X_test['label_id']=X_test['label_id'].fillna(X_test['label_id'].mode().iloc[0])\n",
    "X_test['count']=X_test['count'].fillna(X_test['count'].mode().iloc[0])\n",
    "X_test['ave_user']=X_test['ave_user'].fillna(0)\n",
    "X_test['ave_item']=X_test['ave_item'].fillna(0)\n",
    "X_test['language']=X_test['language'].fillna(X_test['language'].mode().iloc[0])\n",
    "X_test['number_of_comments']=X_test['number_of_comments'].fillna(X_test['number_of_comments'].mode().iloc[0])\n",
    "X_test['released_year']=X_test['released_year'].fillna(X_test['released_year'].mode().iloc[0])\n",
    "X_test['save_later']=X_test['save_later'].fillna(X_test['save_later'].mode().iloc[0])\n",
    "X_test = X_test.drop(columns=['platform_id'])"
   ]
  },
  {
   "cell_type": "code",
   "execution_count": null,
   "metadata": {
    "_cell_guid": "4618936a-f7fa-4e06-95db-d1c129d0d36b",
    "_uuid": "faa44cc7-0448-4e70-9acb-253d37ba28d3",
    "execution": {
     "iopub.status.busy": "2021-06-01T17:04:40.195063Z",
     "iopub.status.idle": "2021-06-01T17:04:40.195772Z"
    },
    "jupyter": {
     "outputs_hidden": false
    }
   },
   "outputs": [],
   "source": [
    "X_test['label_id'] = X_test['label_id'].astype(int)\n",
    "\n",
    "X_test[\"customer_id\"] = X_test[\"customer_id\"].astype('category')\n",
    "X_test[\"song_id\"] = X_test[\"song_id\"].astype('category')\n",
    "\n",
    "X_test[\"language\"] = X_test[\"language\"].astype('category')\n",
    "X_test[\"label_id\"] = X_test[\"label_id\"].astype('category')"
   ]
  },
  {
   "cell_type": "code",
   "execution_count": null,
   "metadata": {
    "_cell_guid": "5a6a3b72-5eed-400c-8a19-f4ccfc36bcb3",
    "_uuid": "83626687-3c30-447f-bd54-9fc100319916",
    "execution": {
     "iopub.status.busy": "2021-06-01T17:04:40.196839Z",
     "iopub.status.idle": "2021-06-01T17:04:40.197569Z"
    },
    "jupyter": {
     "outputs_hidden": false
    }
   },
   "outputs": [],
   "source": [
    "from catboost import Pool\n",
    "from sklearn.model_selection import StratifiedKFold\n",
    "model2 = CatBoostRegressor(depth=8,bagging_temperature=7.919,random_state=123)\n",
    "# Create StratifiedKFold object.\n",
    "skf = StratifiedKFold(n_splits=5, shuffle=True, random_state=123)\n",
    "predictions2 = []\n",
    "   \n",
    "for train_index, test_index in skf.split(X, y):\n",
    "    X_train_fold,X_val_fold = X.loc[train_index,:],X.loc[test_index,:]\n",
    "    y_train_fold,y_val_fold = y.loc[train_index],y.loc[test_index]\n",
    "    eval_dataset = Pool(X_val_fold,y_val_fold,cat_features=c_features)\n",
    "    model2.fit(X_train_fold, y_train_fold,cat_features=c_features,eval_set=eval_dataset,verbose=False)\n",
    "    prediction = model2.predict(X_test)\n",
    "    predictions2.append(prediction)"
   ]
  },
  {
   "cell_type": "code",
   "execution_count": null,
   "metadata": {
    "_cell_guid": "ed84eaa6-32d1-402e-896d-5a4d6f5ebee5",
    "_uuid": "967c787f-daac-4a0a-9398-3e0bdb3c0fe9",
    "execution": {
     "iopub.status.busy": "2021-06-01T17:04:40.198886Z",
     "iopub.status.idle": "2021-06-01T17:04:40.199625Z"
    },
    "jupyter": {
     "outputs_hidden": false
    }
   },
   "outputs": [],
   "source": [
    "predictions_2=np.mean(predictions2,axis=0)"
   ]
  },
  {
   "cell_type": "code",
   "execution_count": null,
   "metadata": {
    "_cell_guid": "5ed95d9f-e6d4-4e80-acd0-cf2fec90f648",
    "_uuid": "ab281b83-9304-46f4-84e9-d349a03f02c3",
    "execution": {
     "iopub.status.busy": "2021-06-01T17:04:40.200695Z",
     "iopub.status.idle": "2021-06-01T17:04:40.201358Z"
    },
    "jupyter": {
     "outputs_hidden": false
    }
   },
   "outputs": [],
   "source": [
    "result2=pd.DataFrame({'test_row_id': test.index, 'score': predictions_2})"
   ]
  },
  {
   "cell_type": "code",
   "execution_count": null,
   "metadata": {
    "_cell_guid": "40ca34c6-2d01-4de9-9e20-2eadc39053f5",
    "_uuid": "159b1abc-70c6-4489-a311-72d120aac8cd",
    "execution": {
     "iopub.status.busy": "2021-06-01T17:04:40.202443Z",
     "iopub.status.idle": "2021-06-01T17:04:40.203104Z"
    },
    "jupyter": {
     "outputs_hidden": false
    }
   },
   "outputs": [],
   "source": [
    "result['score'] = 0.3*result['score']\n",
    "result2['score'] = 0.7*result2['score']"
   ]
  },
  {
   "cell_type": "code",
   "execution_count": null,
   "metadata": {
    "_cell_guid": "de51558e-1cf6-452c-9fed-f32459a76fd0",
    "_uuid": "20c0c16b-14a0-4884-854b-70f781be5a8a",
    "execution": {
     "iopub.status.busy": "2021-06-01T17:04:40.204130Z",
     "iopub.status.idle": "2021-06-01T17:04:40.204812Z"
    },
    "jupyter": {
     "outputs_hidden": false
    }
   },
   "outputs": [],
   "source": [
    "X2 = pd.DataFrame({'pred1':result.score,'pred2':result2.score})\n",
    "X2['score'] = X2.sum(axis=1) \n",
    "output = pd.DataFrame({'test_row_id':result.test_row_id,'score':X2.score})"
   ]
  },
  {
   "cell_type": "code",
   "execution_count": null,
   "metadata": {
    "_cell_guid": "029d94eb-1a90-43fd-851d-678de77e27ca",
    "_uuid": "e95a2171-7102-4886-a66a-c26c6b356caf",
    "execution": {
     "iopub.execute_input": "2021-06-01T17:44:03.392790Z",
     "iopub.status.busy": "2021-06-01T17:44:03.392340Z",
     "iopub.status.idle": "2021-06-01T17:44:05.722926Z",
     "shell.execute_reply": "2021-06-01T17:44:05.721842Z",
     "shell.execute_reply.started": "2021-06-01T17:44:03.392755Z"
    },
    "jupyter": {
     "outputs_hidden": false
    }
   },
   "outputs": [],
   "source": [
    "output.to_csv('my_final_contest.csv',index=False)"
   ]
  },
  {
   "cell_type": "code",
   "execution_count": null,
   "metadata": {
    "_cell_guid": "97b3c195-ae41-496a-84d3-e21bbb0c74db",
    "_uuid": "6005b2c6-5e83-4195-a4a1-1326d9583de5",
    "jupyter": {
     "outputs_hidden": false
    }
   },
   "outputs": [],
   "source": []
  }
 ],
 "metadata": {
  "kernelspec": {
   "display_name": "Python 3",
   "language": "python",
   "name": "python3"
  },
  "language_info": {
   "codemirror_mode": {
    "name": "ipython",
    "version": 3
   },
   "file_extension": ".py",
   "mimetype": "text/x-python",
   "name": "python",
   "nbconvert_exporter": "python",
   "pygments_lexer": "ipython3",
   "version": "3.8.3"
  }
 },
 "nbformat": 4,
 "nbformat_minor": 4
}
